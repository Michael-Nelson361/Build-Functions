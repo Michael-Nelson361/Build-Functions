{
 "cells": [
  {
   "cell_type": "markdown",
   "id": "ad2c6aae-6023-4a59-86f9-cf714b789cfe",
   "metadata": {},
   "source": [
    "### Function 2: Function viewer and Editor\n",
    "**Idea**: This function will mostly expand on the library viewer and editor capabilities. It will operate fairly similar, just with some added components.\n",
    "\n",
    "**Final Product**: A function capable of loading a list of functions. These should not be duplicating. The function should allow for adding a function, editing an existing function, and removing an existing function. It should also display information about a function (to include a description, the dependencies, the tags, and the syntax)."
   ]
  },
  {
   "cell_type": "code",
   "execution_count": 23,
   "id": "8f20f8b2-0993-4eb6-8d7e-a9e4dfc11557",
   "metadata": {
    "tags": []
   },
   "outputs": [],
   "source": [
    "import time\n",
    "import pandas as pd\n",
    "from IPython.display import clear_output\n",
    "import base"
   ]
  },
  {
   "cell_type": "code",
   "execution_count": 90,
   "id": "7bb6e6b0-d559-4c21-bda5-7ed6c08ffe99",
   "metadata": {
    "tags": []
   },
   "outputs": [],
   "source": [
    "def handle_dependencies(input_string):\n",
    "    dependencies = {}\n",
    "    \n",
    "    if input_string == '':\n",
    "        print('Null')\n",
    "        return None\n",
    "    else:\n",
    "        # Split input_string into pairs and strip spaces\n",
    "        pairs = [pair.strip() for pair in input_string.split(',')]\n",
    "\n",
    "        for pair in pairs:\n",
    "            key, value = map(str.strip, pair.split(':'))\n",
    "            if key in dependencies:\n",
    "                dependencies[key].append(value)\n",
    "            else:\n",
    "                dependencies[key] = [value]\n",
    "        return dependencies"
   ]
  },
  {
   "cell_type": "code",
   "execution_count": 57,
   "id": "127ce1c5-0429-4305-95b6-4b1b903f267a",
   "metadata": {
    "tags": []
   },
   "outputs": [],
   "source": [
    "def add_function(df):\n",
    "    df = df.copy()\n",
    "    \n",
    "    name = input(\"Enter the name of the module: \")\n",
    "    syntax = base.add_newline_for_spaces(input(\"Enter the syntax: \"))\n",
    "    desc = input(\"Enter the description: \")\n",
    "    dependencies = input(\"Enter dependency type followed by name of dependency (e.g. 'library:pandas')\\n \\\n",
    "If multiple dependencies, separate each item with a comma.\")\n",
    "    # tags = input(\"Enter modules that this function may be associated with: \")\n",
    "\n",
    "    dependencies = handle_dependencies(dependencies)\n",
    "\n",
    "    new_data = {'name': name,\n",
    "                'desc': desc,\n",
    "                # 'tags': tags,\n",
    "                'dependencies': dependencies,\n",
    "                'syntax': syntax\n",
    "               }\n",
    "    df.loc[-1] = new_data\n",
    "    \n",
    "    return df"
   ]
  },
  {
   "cell_type": "code",
   "execution_count": 68,
   "id": "b3f57825-595b-4652-8257-fa04215716a4",
   "metadata": {
    "tags": []
   },
   "outputs": [],
   "source": [
    "def edit_function(df):\n",
    "    df = df.copy()\n",
    "    \n",
    "    base.view_list(df)\n",
    "    \n",
    "    name_to_edit = input(\"Enter the name of the module to edit: \")\n",
    "\n",
    "    if name_to_edit in df['name'].values:\n",
    "        new_name = input(\"Enter the new name (or press enter to keep it the same): \")\n",
    "        new_syntax = base.add_newline_for_spaces(input(\"Enter the new syntax (or press enter to keep it the same): \"))\n",
    "        new_desc = input(\"Enter the new description (or press enter to keep it the same): \")\n",
    "        # new_tags = input(\"Enter the new tags (or press enter to keep them the same): \")\n",
    "        new_dependencies = handle_dependencies(input(\"Enter the new dependencies (or press enter to keep them the same): \"))\n",
    "\n",
    "        if new_name: df.loc[df['name'] == name_to_edit, 'name'] = new_name\n",
    "        if new_syntax: df.loc[df['name'] == name_to_edit, 'syntax'] = new_syntax\n",
    "        if new_desc: df.loc[df['name'] == name_to_edit, 'desc'] = new_desc\n",
    "        # if new_tags: df.loc[df['name'] == name_to_edit, 'tags'] = new_tags\n",
    "        if new_dependencies: df.loc[df['name'] == name_to_edit, 'dependencies'] = new_dependencies\n",
    "    else:\n",
    "        print(f\"No module named {name_to_edit} found.\")\n",
    "        time.sleep(1.10)\n",
    "        \n",
    "    return df"
   ]
  },
  {
   "cell_type": "code",
   "execution_count": 29,
   "id": "473afebc-b846-4045-b328-9a110b3d345a",
   "metadata": {
    "tags": []
   },
   "outputs": [],
   "source": [
    "def remove_function(df):\n",
    "    pass"
   ]
  },
  {
   "cell_type": "code",
   "execution_count": 98,
   "id": "0e4462c7-09f2-4b89-b118-e60c7f49fb3d",
   "metadata": {
    "tags": []
   },
   "outputs": [],
   "source": [
    "def manage_functions():\n",
    "    df = base.data_saver(load_function=True)\n",
    "    \n",
    "    while True:\n",
    "        time.sleep(0.05)\n",
    "        clear_output()\n",
    "        # Ask the user what they want to do\n",
    "        print('What would you like to do?')\n",
    "        action = input(\"\"\"\n",
    "        1) Add a new entry\n",
    "        2) Edit an existing one\n",
    "        3) Remove a specific function\n",
    "        4) View a list of current functions\n",
    "        5) View a specific function\n",
    "        6) Exit\n",
    "        \"\"\")\n",
    "        \n",
    "        if action == '1':\n",
    "            # Add a new entry\n",
    "            df = add_function(df)\n",
    "        \n",
    "        elif action == '2':\n",
    "            # Edit an existing one\n",
    "            # print('Option 2 not yet available')\n",
    "            # time.sleep(1.25)\n",
    "            df = edit_function(df)\n",
    "        \n",
    "        elif action == '3':\n",
    "            # Remove a specific function\n",
    "            print('Option 3 not yet available')\n",
    "            time.sleep(1.25)\n",
    "        \n",
    "        elif action == '4':\n",
    "            # View a list of current functions\n",
    "            base.view_list(df)\n",
    "            input('Press enter to continue')\n",
    "        \n",
    "        elif action == '5':\n",
    "            # View a specific function\n",
    "            base.view_specific(df)\n",
    "            \n",
    "            input('Press enter to continue')\n",
    "        \n",
    "        elif action == '6':\n",
    "            # Exit\n",
    "            break\n",
    "        \n",
    "        else:\n",
    "            print(\"Invalid action. Please choose a valid option.\")\n",
    "            time.sleep(1.25)\n",
    "    \n",
    "        df = df.drop_duplicates(subset='name', keep='first').reset_index(drop=True)\n",
    "        \n",
    "    base.data_saver(saved_data=df)\n",
    "    \n",
    "    return None"
   ]
  },
  {
   "cell_type": "code",
   "execution_count": 100,
   "id": "4e0a5a3d-0659-4033-be02-bf8cf43b9d28",
   "metadata": {
    "tags": []
   },
   "outputs": [
    {
     "name": "stdout",
     "output_type": "stream",
     "text": [
      "What would you like to do?\n"
     ]
    },
    {
     "name": "stdin",
     "output_type": "stream",
     "text": [
      "\n",
      "        1) Add a new entry\n",
      "        2) Edit an existing one\n",
      "        3) Remove a specific function\n",
      "        4) View a list of current functions\n",
      "        5) View a specific function\n",
      "        6) Exit\n",
      "         6\n"
     ]
    }
   ],
   "source": [
    "manage_functions()"
   ]
  },
  {
   "cell_type": "code",
   "execution_count": null,
   "id": "f69c0178-efe3-4e9b-ae1e-c5f5fbb1587a",
   "metadata": {},
   "outputs": [],
   "source": []
  }
 ],
 "metadata": {
  "kernelspec": {
   "display_name": "Python 3 (ipykernel)",
   "language": "python",
   "name": "python3"
  },
  "language_info": {
   "codemirror_mode": {
    "name": "ipython",
    "version": 3
   },
   "file_extension": ".py",
   "mimetype": "text/x-python",
   "name": "python",
   "nbconvert_exporter": "python",
   "pygments_lexer": "ipython3",
   "version": "3.11.5"
  }
 },
 "nbformat": 4,
 "nbformat_minor": 5
}
