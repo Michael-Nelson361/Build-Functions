{
 "cells": [
  {
   "cell_type": "markdown",
   "id": "5512ebf1-e476-4a4a-b15e-c56ce8b4ae01",
   "metadata": {},
   "source": [
    "## Assembly Functions\n",
    "These are a collection of functions that will work together to take the work (and libraries and functions) made with the function and library management and apply it. The end product will use user input to create a file and populate it with functions and the libraries and functions associated with those functions."
   ]
  },
  {
   "cell_type": "code",
   "execution_count": null,
   "id": "0e8f9dd1-9e18-4a0d-901a-af5814084c2c",
   "metadata": {},
   "outputs": [],
   "source": [
    "import base\n",
    "import pandas"
   ]
  },
  {
   "cell_type": "markdown",
   "id": "55a40bd5-5354-4e89-8950-1f9b32df615c",
   "metadata": {},
   "source": [
    "### Part 1: Get module name\n",
    "\n",
    "**Big Idea:** Get user input to get the name of the file to be created\n",
    "\n",
    "**Final Product:** A function that can take user input to get the filename. It will check if the filename includes .py at the end and format the name appropriately if it doesn't."
   ]
  },
  {
   "cell_type": "code",
   "execution_count": null,
   "id": "c05f792e-9d00-4370-b017-14d0dc524109",
   "metadata": {},
   "outputs": [],
   "source": []
  },
  {
   "cell_type": "markdown",
   "id": "06f5cc31-744b-4526-85a5-a8f1ebb6e279",
   "metadata": {},
   "source": [
    "### Part 2: Get functions to include\n",
    "\n",
    "**Big Idea:** Get functions from the user and return that list for usage elsewhere.\n",
    "\n",
    "**Final Product:** A function that displays a list of available functions for use. It will get a string from the user and parse that string into a list of functions (and drop any that don't exist). Then it will show that string to the user and prompt the user to start over or add more (or press enter if it's good). It will then return this list.\n",
    "\n",
    "*Optional:* Use the the module name to suggest functions that are associated with that module name."
   ]
  },
  {
   "cell_type": "code",
   "execution_count": null,
   "id": "18b47101-45dc-471a-860e-235c0e836dac",
   "metadata": {},
   "outputs": [],
   "source": []
  },
  {
   "cell_type": "markdown",
   "id": "dc329bc7-e7c6-4ebe-b18d-c51cbabe32d2",
   "metadata": {},
   "source": [
    "### Part 3: Get function dependencies\n",
    "**Big Idea:** Use the dependencies field of the functions list to get any dependencies related to functions.\n",
    "\n",
    "**Final Product:** A function that takes a list containing the names of functions to include. It will then iterate through this list and get the names of any functions that are necessary to run the functions. It will do this recursively until there are no functions found. If no functions found, it returns none. Any returns (excepting none) are formatted as a list and appended to a list."
   ]
  },
  {
   "cell_type": "code",
   "execution_count": null,
   "id": "f424b5b9-0497-4ca7-ba17-9212b6ed76c9",
   "metadata": {},
   "outputs": [],
   "source": []
  },
  {
   "cell_type": "markdown",
   "id": "db011ede-80ee-4923-a963-9b469e0f4775",
   "metadata": {},
   "source": [
    "### Part 4: Get library dependencies\n",
    "**Big Idea:** Use the dependencies field of a functions list to get any dependencies related to libraries.\n",
    "\n",
    "**Final Product:** A function that takes a list containing the names of functions to include. It will then iterate through this list and get the names of any libraries necessary to run the functions. It will then return this list."
   ]
  },
  {
   "cell_type": "code",
   "execution_count": null,
   "id": "09bd4c10-e26b-4824-8623-f6f64d67649c",
   "metadata": {},
   "outputs": [],
   "source": []
  },
  {
   "cell_type": "markdown",
   "id": "694e8362-3c74-49a3-a20d-aa586e52ab89",
   "metadata": {},
   "source": [
    "### Part 5: TBD"
   ]
  },
  {
   "cell_type": "code",
   "execution_count": null,
   "id": "166056a9-ff83-483f-8051-e0ef75fb99ea",
   "metadata": {},
   "outputs": [],
   "source": []
  }
 ],
 "metadata": {
  "kernelspec": {
   "display_name": "Python 3 (ipykernel)",
   "language": "python",
   "name": "python3"
  },
  "language_info": {
   "codemirror_mode": {
    "name": "ipython",
    "version": 3
   },
   "file_extension": ".py",
   "mimetype": "text/x-python",
   "name": "python",
   "nbconvert_exporter": "python",
   "pygments_lexer": "ipython3",
   "version": "3.11.5"
  }
 },
 "nbformat": 4,
 "nbformat_minor": 5
}
