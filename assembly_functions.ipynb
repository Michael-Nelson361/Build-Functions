{
 "cells": [
  {
   "cell_type": "markdown",
   "id": "5512ebf1-e476-4a4a-b15e-c56ce8b4ae01",
   "metadata": {},
   "source": [
    "## Assembly Functions\n",
    "These are a collection of functions that will work together to take the work (and libraries and functions) made with the function and library management and apply it. The end product will use user input to create a file and populate it with functions and the libraries and functions associated with those functions."
   ]
  },
  {
   "cell_type": "code",
   "execution_count": 45,
   "id": "0e8f9dd1-9e18-4a0d-901a-af5814084c2c",
   "metadata": {
    "tags": []
   },
   "outputs": [],
   "source": [
    "import base\n",
    "\n",
    "import pandas\n",
    "import time\n",
    "\n",
    "from IPython.display import clear_output"
   ]
  },
  {
   "cell_type": "markdown",
   "id": "55a40bd5-5354-4e89-8950-1f9b32df615c",
   "metadata": {},
   "source": [
    "### Part 1: Get module name\n",
    "\n",
    "**Big Idea:** Get user input to get the name of the file to be created\n",
    "\n",
    "**Final Product:** A function that can take user input to get the filename. It will check if the filename includes .py at the end and format the name appropriately if it doesn't."
   ]
  },
  {
   "cell_type": "code",
   "execution_count": 26,
   "id": "c05f792e-9d00-4370-b017-14d0dc524109",
   "metadata": {
    "tags": []
   },
   "outputs": [],
   "source": [
    "def get_filename():\n",
    "    filename = input(\"Enter the filename: \")\n",
    "\n",
    "    # Check if the filename ends with .py\n",
    "    if not filename.endswith('.py'):\n",
    "        filename += '.py'\n",
    "\n",
    "    return filename"
   ]
  },
  {
   "cell_type": "code",
   "execution_count": 30,
   "id": "2393bc7c-bb0f-4a8d-b587-d16a1bf0dce9",
   "metadata": {
    "tags": []
   },
   "outputs": [
    {
     "name": "stdin",
     "output_type": "stream",
     "text": [
      "Enter the filename:  wrangle.py\n"
     ]
    },
    {
     "data": {
      "text/plain": [
       "'wrangle.py'"
      ]
     },
     "execution_count": 30,
     "metadata": {},
     "output_type": "execute_result"
    }
   ],
   "source": [
    "get_filename()"
   ]
  },
  {
   "cell_type": "markdown",
   "id": "06f5cc31-744b-4526-85a5-a8f1ebb6e279",
   "metadata": {},
   "source": [
    "### Part 2: Get functions to include\n",
    "\n",
    "**Big Idea:** Get functions from the user and return that list for usage elsewhere.\n",
    "\n",
    "**Final Product:** A function that displays a list of available functions for use. It will get a string from the user and parse that string into a list of functions (and drop any that don't exist). Then it will show that string to the user and prompt the user to start over or add more (or press enter if it's good). It will then return this list.\n",
    "\n",
    "*Optional:* Use the the module name to suggest functions that are associated with that module name."
   ]
  },
  {
   "cell_type": "code",
   "execution_count": 61,
   "id": "18b47101-45dc-471a-860e-235c0e836dac",
   "metadata": {
    "tags": []
   },
   "outputs": [],
   "source": [
    "def select_functions():\n",
    "    # Retrieve the functions\n",
    "    df = base.data_saver(load_function=True)\n",
    "    \n",
    "    while True:\n",
    "        # Clear screen\n",
    "        time.sleep(0.05)\n",
    "        clear_output()\n",
    "        \n",
    "        # Display available functions\n",
    "        base.view_list(df)\n",
    "        \n",
    "        # Get user input\n",
    "        input_string = input(\"Enter function names separated by commas: \")\n",
    "        input_list = [name.strip() for name in input_string.split(',') if name.strip()]\n",
    "\n",
    "        # Filter against DataFrame\n",
    "        valid_functions = df[df['name'].isin(input_list)]['name'].tolist()\n",
    "\n",
    "        if not valid_functions:\n",
    "            print(\"None of the entered functions are available. Please try again.\")\n",
    "            time.sleep(1.5)\n",
    "            continue\n",
    "\n",
    "        print(\"Selected functions:\", ', '.join(valid_functions))\n",
    "        choice = input(\"Press Enter to confirm or 'restart' to start over: \").lower()\n",
    "\n",
    "        if choice == 'restart':\n",
    "            continue\n",
    "        else:\n",
    "            # Return the list of valid functions if user confirms\n",
    "            return valid_functions"
   ]
  },
  {
   "cell_type": "code",
   "execution_count": 84,
   "id": "00028102-430b-44ef-8a46-9d83b07b1b5c",
   "metadata": {
    "tags": []
   },
   "outputs": [
    {
     "name": "stdout",
     "output_type": "stream",
     "text": [
      "Current list of entries:\n",
      "df_info: Function takes a dataframe and returns potentially relevant information about it\n",
      "check_file_exists: Generic function to check if a file exists\n",
      "drop_extras: Function to drop extra columns that may have a smaller impact on the model\n",
      "split_categorical: Returns three dataframes split from one for use in model training, validation, and testing\n",
      "drop_cols: Drops columns\n",
      "encode_df: Takes a processed dataframe and encodes the object columns for usage in modeling\n",
      "Xy_sets: Encodes and returns X_sets and y_sets\n",
      "test_hypothesis: Runs a quick statistical test and informs of rejection or failure to reject\n",
      "\n"
     ]
    },
    {
     "name": "stdin",
     "output_type": "stream",
     "text": [
      "Enter function names separated by commas:  df_info, check_file_exists, drop_cols, Xy_sets\n"
     ]
    },
    {
     "name": "stdout",
     "output_type": "stream",
     "text": [
      "Selected functions: df_info, check_file_exists, drop_cols, Xy_sets\n"
     ]
    },
    {
     "name": "stdin",
     "output_type": "stream",
     "text": [
      "Press Enter to confirm or 'restart' to start over:  \n"
     ]
    },
    {
     "data": {
      "text/plain": [
       "['df_info', 'check_file_exists', 'drop_cols', 'Xy_sets']"
      ]
     },
     "execution_count": 84,
     "metadata": {},
     "output_type": "execute_result"
    }
   ],
   "source": [
    "select_functions()"
   ]
  },
  {
   "cell_type": "markdown",
   "id": "dc329bc7-e7c6-4ebe-b18d-c51cbabe32d2",
   "metadata": {},
   "source": [
    "### Part 3: Get function dependencies\n",
    "**Big Idea:** Use the dependencies field of the functions list to get any dependencies related to functions.\n",
    "\n",
    "**Final Product:** A function that takes a list containing the names of functions to include. It will then iterate through this list and get the names of any functions that are necessary to run the functions. It will do this recursively until there are no functions found. If no functions found, it returns none. Any returns (excepting none) are formatted as a list and appended to a list."
   ]
  },
  {
   "cell_type": "code",
   "execution_count": 96,
   "id": "98b9bef8-05c7-495d-abf8-3c9c4d9ddd05",
   "metadata": {
    "tags": []
   },
   "outputs": [],
   "source": [
    "def find_dependencies(func_names, all_dependencies=set()):\n",
    "    df = base.data_saver(load_function=True)\n",
    "    \n",
    "    new_dependencies = set()\n",
    "\n",
    "    for func in func_names:\n",
    "        # Get dependencies for the current function\n",
    "        current_dependencies = df[df['name'] == func]['dependencies'].iloc[0]\n",
    "        \n",
    "        # Extract function dependencies if they exist\n",
    "        func_dependencies = current_dependencies.get('function', []) if isinstance(current_dependencies, dict) else []\n",
    "\n",
    "        # Add new dependencies to the set\n",
    "        for dependency in func_dependencies:\n",
    "            if dependency not in all_dependencies:\n",
    "                new_dependencies.add(dependency)\n",
    "\n",
    "    # Update the overall dependencies set\n",
    "    all_dependencies.update(new_dependencies)\n",
    "\n",
    "    # Recursively find dependencies for the new dependencies\n",
    "    if new_dependencies:\n",
    "        find_dependencies(new_dependencies, all_dependencies)\n",
    "\n",
    "    return list(all_dependencies) if all_dependencies else None"
   ]
  },
  {
   "cell_type": "code",
   "execution_count": 98,
   "id": "aa280f63-f01e-4866-8136-92064327fcb4",
   "metadata": {
    "tags": []
   },
   "outputs": [
    {
     "data": {
      "text/plain": [
       "['encode_df', 'drop_extras']"
      ]
     },
     "execution_count": 98,
     "metadata": {},
     "output_type": "execute_result"
    }
   ],
   "source": [
    "functions = ['df_info', 'check_file_exists', 'drop_cols', 'Xy_sets']\n",
    "\n",
    "find_dependencies(functions)"
   ]
  },
  {
   "cell_type": "code",
   "execution_count": 66,
   "id": "f424b5b9-0497-4ca7-ba17-9212b6ed76c9",
   "metadata": {
    "tags": []
   },
   "outputs": [
    {
     "data": {
      "text/html": [
       "<div>\n",
       "<style scoped>\n",
       "    .dataframe tbody tr th:only-of-type {\n",
       "        vertical-align: middle;\n",
       "    }\n",
       "\n",
       "    .dataframe tbody tr th {\n",
       "        vertical-align: top;\n",
       "    }\n",
       "\n",
       "    .dataframe thead th {\n",
       "        text-align: right;\n",
       "    }\n",
       "</style>\n",
       "<table border=\"1\" class=\"dataframe\">\n",
       "  <thead>\n",
       "    <tr style=\"text-align: right;\">\n",
       "      <th></th>\n",
       "      <th>name</th>\n",
       "      <th>desc</th>\n",
       "      <th>tags</th>\n",
       "      <th>dependencies</th>\n",
       "      <th>syntax</th>\n",
       "    </tr>\n",
       "  </thead>\n",
       "  <tbody>\n",
       "    <tr>\n",
       "      <th>0</th>\n",
       "      <td>df_info</td>\n",
       "      <td>Function takes a dataframe and returns potenti...</td>\n",
       "      <td>NaN</td>\n",
       "      <td>{'library': ['pandas']}</td>\n",
       "      <td>def df_info(df,include=False,samples=1):\\n    ...</td>\n",
       "    </tr>\n",
       "    <tr>\n",
       "      <th>1</th>\n",
       "      <td>check_file_exists</td>\n",
       "      <td>Generic function to check if a file exists</td>\n",
       "      <td>NaN</td>\n",
       "      <td>{'library': ['os', 'pandas']}</td>\n",
       "      <td>def check_file_exists(filename,query,url):\\n  ...</td>\n",
       "    </tr>\n",
       "    <tr>\n",
       "      <th>2</th>\n",
       "      <td>drop_extras</td>\n",
       "      <td>Function to drop extra columns that may have a...</td>\n",
       "      <td>NaN</td>\n",
       "      <td>{'library': ['pandas']}</td>\n",
       "      <td>def drop_extras(df,target,degree=6):\\n     \"\"\"...</td>\n",
       "    </tr>\n",
       "    <tr>\n",
       "      <th>3</th>\n",
       "      <td>split_categorical</td>\n",
       "      <td>Returns three dataframes split from one for us...</td>\n",
       "      <td>NaN</td>\n",
       "      <td>{'library': ['pandas', 'train_test_split']}</td>\n",
       "      <td>def split_categorical(df,strat_var,seed=123):\\...</td>\n",
       "    </tr>\n",
       "    <tr>\n",
       "      <th>4</th>\n",
       "      <td>drop_cols</td>\n",
       "      <td>Drops columns</td>\n",
       "      <td>NaN</td>\n",
       "      <td>{'library': ['pandas'], 'function': ['drop_ext...</td>\n",
       "      <td>def drop_cols(df,cols=[],extras=False,degree=6...</td>\n",
       "    </tr>\n",
       "    <tr>\n",
       "      <th>5</th>\n",
       "      <td>encode_df</td>\n",
       "      <td>Takes a processed dataframe and encodes the ob...</td>\n",
       "      <td>NaN</td>\n",
       "      <td>{'library': ['pandas']}</td>\n",
       "      <td>def encode_df(df,target):\\n     '''\\n     Take...</td>\n",
       "    </tr>\n",
       "    <tr>\n",
       "      <th>6</th>\n",
       "      <td>Xy_sets</td>\n",
       "      <td>Encodes and returns X_sets and y_sets</td>\n",
       "      <td>NaN</td>\n",
       "      <td>{'library': ['pandas'], 'function': ['encode_d...</td>\n",
       "      <td>def Xy_sets(tvt_set,target):\\n     '''\\n     E...</td>\n",
       "    </tr>\n",
       "    <tr>\n",
       "      <th>7</th>\n",
       "      <td>test_hypothesis</td>\n",
       "      <td>Runs a quick statistical test and informs of r...</td>\n",
       "      <td>NaN</td>\n",
       "      <td>None</td>\n",
       "      <td>def test_hypothesis(p,\\n                      ...</td>\n",
       "    </tr>\n",
       "  </tbody>\n",
       "</table>\n",
       "</div>"
      ],
      "text/plain": [
       "                name                                               desc  tags  \\\n",
       "0            df_info  Function takes a dataframe and returns potenti...   NaN   \n",
       "1  check_file_exists         Generic function to check if a file exists   NaN   \n",
       "2        drop_extras  Function to drop extra columns that may have a...   NaN   \n",
       "3  split_categorical  Returns three dataframes split from one for us...   NaN   \n",
       "4          drop_cols                                      Drops columns   NaN   \n",
       "5          encode_df  Takes a processed dataframe and encodes the ob...   NaN   \n",
       "6            Xy_sets              Encodes and returns X_sets and y_sets   NaN   \n",
       "7    test_hypothesis  Runs a quick statistical test and informs of r...   NaN   \n",
       "\n",
       "                                        dependencies  \\\n",
       "0                            {'library': ['pandas']}   \n",
       "1                      {'library': ['os', 'pandas']}   \n",
       "2                            {'library': ['pandas']}   \n",
       "3        {'library': ['pandas', 'train_test_split']}   \n",
       "4  {'library': ['pandas'], 'function': ['drop_ext...   \n",
       "5                            {'library': ['pandas']}   \n",
       "6  {'library': ['pandas'], 'function': ['encode_d...   \n",
       "7                                               None   \n",
       "\n",
       "                                              syntax  \n",
       "0  def df_info(df,include=False,samples=1):\\n    ...  \n",
       "1  def check_file_exists(filename,query,url):\\n  ...  \n",
       "2  def drop_extras(df,target,degree=6):\\n     \"\"\"...  \n",
       "3  def split_categorical(df,strat_var,seed=123):\\...  \n",
       "4  def drop_cols(df,cols=[],extras=False,degree=6...  \n",
       "5  def encode_df(df,target):\\n     '''\\n     Take...  \n",
       "6  def Xy_sets(tvt_set,target):\\n     '''\\n     E...  \n",
       "7  def test_hypothesis(p,\\n                      ...  "
      ]
     },
     "execution_count": 66,
     "metadata": {},
     "output_type": "execute_result"
    }
   ],
   "source": [
    "base.data_saver(load_function=True)"
   ]
  },
  {
   "cell_type": "markdown",
   "id": "db011ede-80ee-4923-a963-9b469e0f4775",
   "metadata": {},
   "source": [
    "### Part 4: Get library dependencies\n",
    "**Big Idea:** Use the dependencies field of a functions list to get any dependencies related to libraries.\n",
    "\n",
    "**Final Product:** A function that takes a list containing the names of functions to include. It will then iterate through this list and get the names of any libraries necessary to run the functions. It will then return this list."
   ]
  },
  {
   "cell_type": "code",
   "execution_count": null,
   "id": "09bd4c10-e26b-4824-8623-f6f64d67649c",
   "metadata": {},
   "outputs": [],
   "source": []
  },
  {
   "cell_type": "markdown",
   "id": "694e8362-3c74-49a3-a20d-aa586e52ab89",
   "metadata": {},
   "source": [
    "### Part 5: TBD"
   ]
  },
  {
   "cell_type": "code",
   "execution_count": null,
   "id": "166056a9-ff83-483f-8051-e0ef75fb99ea",
   "metadata": {},
   "outputs": [],
   "source": []
  }
 ],
 "metadata": {
  "kernelspec": {
   "display_name": "Python 3 (ipykernel)",
   "language": "python",
   "name": "python3"
  },
  "language_info": {
   "codemirror_mode": {
    "name": "ipython",
    "version": 3
   },
   "file_extension": ".py",
   "mimetype": "text/x-python",
   "name": "python",
   "nbconvert_exporter": "python",
   "pygments_lexer": "ipython3",
   "version": "3.11.5"
  }
 },
 "nbformat": 4,
 "nbformat_minor": 5
}
