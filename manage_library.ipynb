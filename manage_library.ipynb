{
 "cells": [
  {
   "cell_type": "markdown",
   "id": "b607bef9-1c6d-4732-bb0d-011eb8a20acd",
   "metadata": {},
   "source": [
    "### Function 1: Library Viewer and Editor\n",
    "**Idea**: We all have to start somewhere, and why not with the list of dependencies? I can start to see how things are building and perfect this piece, and in turn this should help with the functions builder, since that will be on a larger scale.\n",
    "\n",
    "**Final Product**: A function capable of loading a list of libraries. These should not be duplicating. The function should build a dictionary for each module or library. The dictionary should include a *name*, *brief description*, and *syntax* about the library/module. It should also allow for editing of these items."
   ]
  },
  {
   "cell_type": "code",
   "execution_count": 3,
   "id": "3c0ca234-8a8b-485b-990f-29166f8b8081",
   "metadata": {
    "tags": []
   },
   "outputs": [],
   "source": [
    "import base\n",
    "import pandas as pd\n",
    "import time\n",
    "from IPython.display import clear_output"
   ]
  },
  {
   "cell_type": "code",
   "execution_count": 24,
   "id": "354cb2cc-511c-4c3d-8638-19fe92ea1a2d",
   "metadata": {
    "tags": []
   },
   "outputs": [],
   "source": [
    "def add_library(df):\n",
    "    df = df.copy()\n",
    "    # Add a new entry\n",
    "    name = input(\"Enter the name of the module: \")\n",
    "    syntax = input(\"Enter the syntax: \")\n",
    "    desc = input(\"Enter the description: \")\n",
    "    \n",
    "    if name:\n",
    "        new_data = {'name': name, 'syntax': syntax, 'desc': desc}\n",
    "    \n",
    "        df.loc[-1] = new_data\n",
    "    \n",
    "    return df "
   ]
  },
  {
   "cell_type": "code",
   "execution_count": 7,
   "id": "92539b65-9d9f-449c-b250-a02e1ff16b75",
   "metadata": {
    "tags": []
   },
   "outputs": [],
   "source": [
    "def edit_library(df):\n",
    "    df = df.copy()\n",
    "    \n",
    "    base.view_list(df)\n",
    "    \n",
    "    name_to_edit = input(\"Enter the name of the module to edit: \")\n",
    "\n",
    "    if name_to_edit in df['name'].values:\n",
    "        new_name = input(\"Enter the new name (or press enter to keep it the same): \")\n",
    "        new_syntax = input(\"Enter the new syntax (or press enter to keep it the same): \")\n",
    "        new_desc = input(\"Enter the new description (or press enter to keep it the same): \")\n",
    "\n",
    "        if new_name: df.loc[df['name'] == name_to_edit, 'name'] = new_name\n",
    "        if new_syntax: df.loc[df['name'] == name_to_edit, 'syntax'] = new_syntax\n",
    "        if new_desc: df.loc[df['name'] == name_to_edit, 'desc'] = new_desc\n",
    "    else:\n",
    "        print(f\"No module named {name_to_edit} found.\")\n",
    "        time.sleep(1.10)\n",
    "        \n",
    "    return df"
   ]
  },
  {
   "cell_type": "code",
   "execution_count": 9,
   "id": "d17faded-1472-469f-b69f-35d5a5030f45",
   "metadata": {
    "tags": []
   },
   "outputs": [],
   "source": [
    "def manage_library():\n",
    "    df = base.data_saver(load_library=True)\n",
    "    \n",
    "    while True:\n",
    "        time.sleep(0.05)\n",
    "        clear_output()\n",
    "        # Ask the user what they want to do\n",
    "        print('What would you like to do?')\n",
    "        action = input(\"\"\"\n",
    "        1) Add a new entry\n",
    "        2) Edit an existing one\n",
    "        3) View a list of current libraries\n",
    "        4) View a specific library\n",
    "        5) Exit\n",
    "        \"\"\")\n",
    "\n",
    "        if action == '1':\n",
    "            # Add a new entry\n",
    "            df = add_library(df)\n",
    "\n",
    "        elif action == '2':\n",
    "            # Edit an existing entry\n",
    "            df = edit_library(df)\n",
    "        \n",
    "        elif action == '3':\n",
    "            # view current libraries\n",
    "            base.view_list(df)\n",
    "            input('Press enter to continue')\n",
    "        \n",
    "        elif action == '4':\n",
    "            # view specific library\n",
    "            base.view_specific(df)\n",
    "            input('Press enter to continue')\n",
    "        \n",
    "        elif action == '5':\n",
    "            # exit the program/loop\n",
    "            break\n",
    "\n",
    "        else:\n",
    "            print(\"Invalid action. Please choose a valid option.\")\n",
    "            time.sleep(1.75)\n",
    "        \n",
    "        df = df.drop_duplicates(subset='name', keep='first').reset_index(drop=True)\n",
    "    \n",
    "    base.data_saver(saved_data=df)\n",
    "\n",
    "    return None"
   ]
  },
  {
   "cell_type": "code",
   "execution_count": 29,
   "id": "b3d7f500-d82a-4742-ac49-6f263ef11f54",
   "metadata": {
    "tags": []
   },
   "outputs": [
    {
     "name": "stdout",
     "output_type": "stream",
     "text": [
      "What would you like to do?\n"
     ]
    },
    {
     "name": "stdin",
     "output_type": "stream",
     "text": [
      "\n",
      "        1) Add a new entry\n",
      "        2) Edit an existing one\n",
      "        3) View a list of current libraries\n",
      "        4) View a specific library\n",
      "        5) Exit\n",
      "         5\n"
     ]
    }
   ],
   "source": [
    "manage_library()"
   ]
  },
  {
   "cell_type": "code",
   "execution_count": null,
   "id": "ba463232-cb8c-4fef-9057-13ae82f3500e",
   "metadata": {},
   "outputs": [],
   "source": []
  }
 ],
 "metadata": {
  "kernelspec": {
   "display_name": "Python 3 (ipykernel)",
   "language": "python",
   "name": "python3"
  },
  "language_info": {
   "codemirror_mode": {
    "name": "ipython",
    "version": 3
   },
   "file_extension": ".py",
   "mimetype": "text/x-python",
   "name": "python",
   "nbconvert_exporter": "python",
   "pygments_lexer": "ipython3",
   "version": "3.11.5"
  }
 },
 "nbformat": 4,
 "nbformat_minor": 5
}
