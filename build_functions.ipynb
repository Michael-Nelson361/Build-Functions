{
 "cells": [
  {
   "cell_type": "markdown",
   "id": "881af152-90d1-4d8d-895c-9d827fb66c00",
   "metadata": {
    "tags": []
   },
   "source": [
    "# Build Functions Script\n",
    "Name is WIP\n",
    "\n",
    "## Goals:\n",
    "- Build a deployable script that can reference and update an online list of functions, as well as build a .py file with these functions\n",
    "\n",
    "## Stakeholders:\n",
    "- Mostly me, but it could prove to be super useful to others too\n",
    "\n",
    "## Deliverables:\n",
    "- function viewer + editor:\n",
    "    - create a dictionary object containing details about a function\n",
    "    - create a list of dictionary objects, where each item is a function\n",
    "    - edit and remove functions\n",
    "    - show information about a function (to include dependencies and syntax)\n",
    "- library viewer + editor:\n",
    "    - load a list of Python libraries and modules\n",
    "    - show information about these libraries and modules\n",
    "    - add and edit these libraries and modules\n",
    "- module builder:\n",
    "    - get from the user the name of the file to create\n",
    "    - check if the file given matches any tags associated with the functions list\n",
    "    - suggest functions based on their tags\n",
    "- function assembler:\n",
    "    - get functions to include from the user\n",
    "    - assemble a list of functions \n",
    "- library assembler:\n",
    "    - get dependencies for a given function\n",
    "    - assemble a list of dependencies for a given function (probably using a tuple)\n",
    "- grand function:\n",
    "    - runs the above in some fashion"
   ]
  },
  {
   "cell_type": "code",
   "execution_count": 2,
   "id": "5e38afb7-8e7f-4763-a701-980854383b46",
   "metadata": {
    "tags": []
   },
   "outputs": [],
   "source": [
    "# # functions example:\n",
    "# functions = [\n",
    "# \t{\n",
    "# \t\t'function_name':'function_call_name',\n",
    "# \t\t'modules':['module for function']\n",
    "# \t\t'description':'description of function actions',\n",
    "# \t\t'dependencies':{\n",
    "# \t\t\t'name':'type'\n",
    "# \t\t},\n",
    "# \t\t'syntax':'code to create the function''\n",
    "# \t}\n",
    "# ]\n",
    "\n",
    "# # libraries example\n",
    "# libraries = [\n",
    "# \t{\n",
    "# \t\t'name':'library/module name',\n",
    "# \t\t'syntax':'library/module syntax'\n",
    "# \t}\n",
    "# ]"
   ]
  },
  {
   "cell_type": "code",
   "execution_count": 1,
   "id": "29fbb040-fbaa-45db-95ba-662d6d966f78",
   "metadata": {
    "tags": []
   },
   "outputs": [],
   "source": [
    "# establish imports\n",
    "import base\n",
    "from library import manage_library\n",
    "from function import manage_functions"
   ]
  },
  {
   "cell_type": "code",
   "execution_count": 3,
   "id": "5958086e-9d3e-4e37-b61d-b5c9af49f3d6",
   "metadata": {
    "tags": []
   },
   "outputs": [
    {
     "name": "stdout",
     "output_type": "stream",
     "text": [
      "What would you like to do?\n"
     ]
    },
    {
     "name": "stdin",
     "output_type": "stream",
     "text": [
      "\n",
      "        1) Add a new entry\n",
      "        2) Edit an existing one\n",
      "        3) View a list of current libraries\n",
      "        4) View a specific library\n",
      "        5) Exit\n",
      "         5\n"
     ]
    }
   ],
   "source": [
    "manage_library()"
   ]
  },
  {
   "cell_type": "code",
   "execution_count": 5,
   "id": "4b60c5e4-66b6-4532-a895-43a827105d4a",
   "metadata": {
    "tags": []
   },
   "outputs": [
    {
     "name": "stdout",
     "output_type": "stream",
     "text": [
      "What would you like to do?\n"
     ]
    },
    {
     "name": "stdin",
     "output_type": "stream",
     "text": [
      "\n",
      "        1) Add a new entry\n",
      "        2) Edit an existing one\n",
      "        3) Remove a specific function\n",
      "        4) View a list of current functions\n",
      "        5) View a specific function\n",
      "        6) Exit\n",
      "         6\n"
     ]
    }
   ],
   "source": [
    "manage_functions()"
   ]
  },
  {
   "cell_type": "markdown",
   "id": "40ea08e2-63d2-4cab-9e5b-c1b02d0b1b50",
   "metadata": {
    "jp-MarkdownHeadingCollapsed": true,
    "tags": []
   },
   "source": [
    "### Function 0.1: Data Saver\n",
    "**Idea**: This function will be the crux of operations. Most operations would involve this function, as they require the data stored within.\n",
    "\n",
    "**Final Product**: A function that by default returns None. If no arguments are given, it does nothing. If a DataFrame is provided, then one of its other arguments, 'library' or 'function' must be True. If 'library' or 'function' is True, then it will perform the operations of loading the specific data and returning it.\n",
    "\n",
    "Parameters:\n",
    "- load_library=False\n",
    "    - if True then checks if library csv exists. If library csv exists, then load and return it. If it does not exist, then make it and return starter DataFrame with 'name', 'syntax', and 'desc' columns.\n",
    "- load_function=False\n",
    "    - if True, then checks if functions json exists. If functions json exists, then load and return it. If it does not exist, then make it and return starter DataFrame with the 'name','desc','syntax', and 'dependencies' columns.\n",
    "- saved_data=None\n",
    "    - if not None, then checks number of columns. If length of columns matches library list, then overwrite libraries.csv. If length of columns matches functions list, then overwrite functions.json. Else print that length matches neither."
   ]
  },
  {
   "cell_type": "code",
   "execution_count": 9,
   "id": "86371940-f98e-4856-a548-1a2dd302c6d6",
   "metadata": {
    "tags": []
   },
   "outputs": [],
   "source": [
    "def data_saver(load_library=False,load_function=False,saved_data=None):\n",
    "    # check if load_library is true\n",
    "    if load_library == True:\n",
    "        # check if libraries.csv exists\n",
    "        if os.path.exists('libraries.csv') == True:\n",
    "            libraries = pd.read_csv('libraries.csv',index_col=0)\n",
    "            return libraries\n",
    "        else:\n",
    "            libraries = pd.DataFrame(columns=['name','syntax','desc'])\n",
    "            libraries.to_csv('libraries.csv')\n",
    "            return libraries\n",
    "    \n",
    "    # check if load_function is true\n",
    "    elif load_function == True:\n",
    "        if os.path.exists('functions.json') == True:\n",
    "            functions = pd.read_json('functions.json')\n",
    "            return functions\n",
    "        else:\n",
    "            functions = pd.DataFrame(columns=['name','desc','tags','dependencies','syntax'])\n",
    "            functions.to_json('functions.json')\n",
    "            return functions\n",
    "    \n",
    "    # check if saved_data is not None\n",
    "    elif type(saved_data) == type(pd.DataFrame()):\n",
    "        if len(saved_data.columns) == 3:\n",
    "            saved_data.to_csv('libraries.csv')\n",
    "        elif len(saved_data.columns) == 5:\n",
    "            saved_data.to_json('functions.json')\n",
    "        else:\n",
    "            print('Saved data length matches none')\n",
    "    \n",
    "    else:\n",
    "        print('No options provided. Exiting.')\n",
    "    \n",
    "    return None"
   ]
  },
  {
   "cell_type": "code",
   "execution_count": 11,
   "id": "57509a92-e094-4193-8d0f-2501b63b695c",
   "metadata": {
    "tags": []
   },
   "outputs": [
    {
     "data": {
      "text/html": [
       "<div>\n",
       "<style scoped>\n",
       "    .dataframe tbody tr th:only-of-type {\n",
       "        vertical-align: middle;\n",
       "    }\n",
       "\n",
       "    .dataframe tbody tr th {\n",
       "        vertical-align: top;\n",
       "    }\n",
       "\n",
       "    .dataframe thead th {\n",
       "        text-align: right;\n",
       "    }\n",
       "</style>\n",
       "<table border=\"1\" class=\"dataframe\">\n",
       "  <thead>\n",
       "    <tr style=\"text-align: right;\">\n",
       "      <th></th>\n",
       "      <th>name</th>\n",
       "      <th>syntax</th>\n",
       "      <th>desc</th>\n",
       "    </tr>\n",
       "  </thead>\n",
       "  <tbody>\n",
       "    <tr>\n",
       "      <th>0</th>\n",
       "      <td>pandas</td>\n",
       "      <td>import pandas as pd</td>\n",
       "      <td>data manipulation library</td>\n",
       "    </tr>\n",
       "  </tbody>\n",
       "</table>\n",
       "</div>"
      ],
      "text/plain": [
       "     name               syntax                       desc\n",
       "0  pandas  import pandas as pd  data manipulation library"
      ]
     },
     "execution_count": 11,
     "metadata": {},
     "output_type": "execute_result"
    }
   ],
   "source": [
    "data_saver(load_library=True)"
   ]
  },
  {
   "cell_type": "markdown",
   "id": "fbc7ca34-82ca-4d92-82f7-d3c371544ca0",
   "metadata": {
    "jp-MarkdownHeadingCollapsed": true,
    "tags": []
   },
   "source": [
    "### Function 0.2: Format text with embedded newlines\n",
    "**Problem:** So at the function editor, I encountered the problem that copying and pasting a function results in a mess of formatting. Newlines aren't kept, so everything is globbed together in an ugly mess. This won't work for when the function begins to build the modules, so I need to correct this issue now so that everything will format correctly.\n",
    "\n",
    "**Solution:** The following function relies on the *re* module. It finds any 3 or more consecutive spaces and adds a newline character to the string before the spaces. This way, any text entered will, when printed, be written with the appropriate indentations and should work as intended."
   ]
  },
  {
   "cell_type": "code",
   "execution_count": 48,
   "id": "cfa6c50a-06bd-4e95-8385-3b2c3f88cb60",
   "metadata": {
    "tags": []
   },
   "outputs": [],
   "source": [
    "def add_newline_for_spaces(text):\n",
    "    # Replace two or more spaces with a newline followed by the spaces\n",
    "    modified_text = re.sub(r'(\\S)(\\s{3,})', r'\\1\\n\\2', text)\n",
    "    return modified_text"
   ]
  },
  {
   "cell_type": "markdown",
   "id": "1dd5c790-da26-488a-99ca-ac02b3e9ced4",
   "metadata": {
    "jp-MarkdownHeadingCollapsed": true,
    "tags": []
   },
   "source": [
    "### Function 1: Library Viewer and Editor\n",
    "**Idea**: We all have to start somewhere, and why not with the list of dependencies? I can start to see how things are building and perfect this piece, and in turn this should help with the functions builder, since that will be on a larger scale.\n",
    "\n",
    "**Final Product**: A function capable of loading a list of libraries. These should not be duplicating. The function should build a dictionary for each module or library. The dictionary should include a *name*, *brief description*, and *syntax* about the library/module. It should also allow for editing of these items."
   ]
  },
  {
   "cell_type": "code",
   "execution_count": 14,
   "id": "099c32ea-7244-415f-b479-20eb7912646f",
   "metadata": {
    "tags": []
   },
   "outputs": [
    {
     "data": {
      "text/html": [
       "<div>\n",
       "<style scoped>\n",
       "    .dataframe tbody tr th:only-of-type {\n",
       "        vertical-align: middle;\n",
       "    }\n",
       "\n",
       "    .dataframe tbody tr th {\n",
       "        vertical-align: top;\n",
       "    }\n",
       "\n",
       "    .dataframe thead th {\n",
       "        text-align: right;\n",
       "    }\n",
       "</style>\n",
       "<table border=\"1\" class=\"dataframe\">\n",
       "  <thead>\n",
       "    <tr style=\"text-align: right;\">\n",
       "      <th></th>\n",
       "      <th>name</th>\n",
       "      <th>syntax</th>\n",
       "      <th>desc</th>\n",
       "    </tr>\n",
       "  </thead>\n",
       "  <tbody>\n",
       "  </tbody>\n",
       "</table>\n",
       "</div>"
      ],
      "text/plain": [
       "Empty DataFrame\n",
       "Columns: [name, syntax, desc]\n",
       "Index: []"
      ]
     },
     "execution_count": 14,
     "metadata": {},
     "output_type": "execute_result"
    }
   ],
   "source": [
    "library_list"
   ]
  },
  {
   "cell_type": "code",
   "execution_count": 16,
   "id": "3d7fa97d-87e6-408b-8470-37ada60fcb87",
   "metadata": {},
   "outputs": [],
   "source": [
    "# # add to the list\n",
    "# library_list.loc[-1] = [item_type,item_name,item_syntax,item_desc]\n",
    "\n",
    "# # reset the index\n",
    "# library_list = library_list.reset_index(drop=True)"
   ]
  },
  {
   "cell_type": "code",
   "execution_count": 18,
   "id": "041d2c4d-2f5b-4ac9-a871-180dc629f057",
   "metadata": {},
   "outputs": [
    {
     "data": {
      "text/html": [
       "<div>\n",
       "<style scoped>\n",
       "    .dataframe tbody tr th:only-of-type {\n",
       "        vertical-align: middle;\n",
       "    }\n",
       "\n",
       "    .dataframe tbody tr th {\n",
       "        vertical-align: top;\n",
       "    }\n",
       "\n",
       "    .dataframe thead th {\n",
       "        text-align: right;\n",
       "    }\n",
       "</style>\n",
       "<table border=\"1\" class=\"dataframe\">\n",
       "  <thead>\n",
       "    <tr style=\"text-align: right;\">\n",
       "      <th></th>\n",
       "      <th>name</th>\n",
       "      <th>syntax</th>\n",
       "      <th>desc</th>\n",
       "    </tr>\n",
       "  </thead>\n",
       "  <tbody>\n",
       "  </tbody>\n",
       "</table>\n",
       "</div>"
      ],
      "text/plain": [
       "Empty DataFrame\n",
       "Columns: [name, syntax, desc]\n",
       "Index: []"
      ]
     },
     "execution_count": 18,
     "metadata": {},
     "output_type": "execute_result"
    }
   ],
   "source": [
    "library_list"
   ]
  },
  {
   "cell_type": "code",
   "execution_count": 141,
   "id": "7bc5b04c-b1e7-4c5c-be52-35140b068af2",
   "metadata": {
    "tags": []
   },
   "outputs": [],
   "source": [
    "def manage_library():\n",
    "    df = data_saver(load_library=True)\n",
    "    \n",
    "    while True:\n",
    "        time.sleep(0.05)\n",
    "        clear_output()\n",
    "        # Ask the user what they want to do\n",
    "        print('What would you like to do?')\n",
    "        action = input(\"\"\"\n",
    "        1) Add a new entry\n",
    "        2) Edit an existing one\n",
    "        3) View a list of current libraries\n",
    "        4) View a specific library\n",
    "        5) Exit\n",
    "        \"\"\")\n",
    "\n",
    "        if action == '1':\n",
    "            # Add a new entry\n",
    "            name = input(\"Enter the name of the module: \")\n",
    "            syntax = input(\"Enter the syntax: \")\n",
    "            desc = input(\"Enter the description: \")\n",
    "            new_data = {'name': name, 'syntax': syntax, 'desc': desc}\n",
    "            df.loc[-1] = new_data\n",
    "\n",
    "        elif action == '2':\n",
    "            # Edit an existing entry\n",
    "            name_to_edit = input(\"Enter the name of the module to edit: \")\n",
    "\n",
    "            if name_to_edit in df['name'].values:\n",
    "                new_name = input(\"Enter the new name (or press enter to keep it the same): \")\n",
    "                new_syntax = input(\"Enter the new syntax (or press enter to keep it the same): \")\n",
    "                new_desc = input(\"Enter the new description (or press enter to keep it the same): \")\n",
    "\n",
    "                if new_name: df.loc[df['name'] == name_to_edit, 'name'] = new_name\n",
    "                if new_syntax: df.loc[df['name'] == name_to_edit, 'syntax'] = new_syntax\n",
    "                if new_desc: df.loc[df['name'] == name_to_edit, 'desc'] = new_desc\n",
    "            else:\n",
    "                print(f\"No module named {name_to_edit} found.\")\n",
    "        \n",
    "        elif action == '3':\n",
    "            # view current libraries\n",
    "            for i in df.index:\n",
    "                print(f'{df.iloc[i][\"name\"]}: {df.iloc[i].desc}')\n",
    "            input('Press enter to continue')\n",
    "        \n",
    "        elif action == '4':\n",
    "            # view specific library\n",
    "            df = data_saver(load_library=True)\n",
    "\n",
    "            for i in df.index:\n",
    "                print(f'{df.iloc[i][\"name\"]}')\n",
    "\n",
    "            library_to_view = input('Which would you like to see? ')\n",
    "            \n",
    "            # pull the library index\n",
    "            item_index = df[df[\"name\"] == library_to_view].index\n",
    "\n",
    "            for col in df.columns:\n",
    "                print(f'{col}: {df[df[\"name\"] == library_to_view][col][item_index[0]]}')\n",
    "            \n",
    "            input('Press enter to continue')\n",
    "        \n",
    "        elif action == '5':\n",
    "            # exit the program/loop\n",
    "            break\n",
    "\n",
    "        else:\n",
    "            print(\"Invalid action. Please choose a valid option.\")\n",
    "            time.sleep(1.25)\n",
    "        \n",
    "        df = df.drop_duplicates(subset='name', keep='first').reset_index(drop=True)\n",
    "    \n",
    "    data_saver(saved_data=df)\n",
    "\n",
    "    return None"
   ]
  },
  {
   "cell_type": "code",
   "execution_count": 137,
   "id": "7a12f91c-d5c5-4455-8ef3-9c88ad882486",
   "metadata": {
    "tags": []
   },
   "outputs": [
    {
     "name": "stdout",
     "output_type": "stream",
     "text": [
      "What would you like to do?\n"
     ]
    },
    {
     "name": "stdin",
     "output_type": "stream",
     "text": [
      "\n",
      "        1) Add a new entry\n",
      "        2) Edit an existing one\n",
      "        3) View a list of current libraries\n",
      "        4) View a specific library\n",
      "        5) Exit\n",
      "         5\n"
     ]
    }
   ],
   "source": [
    "manage_library()"
   ]
  },
  {
   "cell_type": "code",
   "execution_count": 245,
   "id": "06327028-34a9-4ef2-8880-9f68f20ed3b5",
   "metadata": {
    "tags": []
   },
   "outputs": [],
   "source": [
    "libraries = data_saver(load_library=True)"
   ]
  },
  {
   "cell_type": "code",
   "execution_count": 299,
   "id": "01e0889f-b715-4b60-8098-7fd1e0c08419",
   "metadata": {
    "tags": []
   },
   "outputs": [
    {
     "data": {
      "text/plain": [
       "'pandas'"
      ]
     },
     "execution_count": 299,
     "metadata": {},
     "output_type": "execute_result"
    }
   ],
   "source": [
    "libraries[libraries.name == 'pandas'].name[0]"
   ]
  },
  {
   "cell_type": "code",
   "execution_count": 111,
   "id": "867c22cb-db96-482a-afe3-39c32c14ad50",
   "metadata": {
    "tags": []
   },
   "outputs": [],
   "source": [
    "library_to_view = 'time'"
   ]
  },
  {
   "cell_type": "code",
   "execution_count": 129,
   "id": "a1aa8432-04ae-4649-aad2-60c27fb7a61b",
   "metadata": {
    "tags": []
   },
   "outputs": [
    {
     "data": {
      "text/plain": [
       "1"
      ]
     },
     "execution_count": 129,
     "metadata": {},
     "output_type": "execute_result"
    }
   ],
   "source": [
    "item_index = df[df[\"name\"] == library_to_view].index\n",
    "item_index[0]"
   ]
  },
  {
   "cell_type": "code",
   "execution_count": null,
   "id": "8ce1ecb0-b89c-46d2-b006-b57371052155",
   "metadata": {},
   "outputs": [],
   "source": [
    " {df[df[\"name\"] == library_to_view][col][0]}"
   ]
  },
  {
   "cell_type": "code",
   "execution_count": 139,
   "id": "939339c0-80f5-478e-bbdb-6231ec205eb3",
   "metadata": {
    "tags": []
   },
   "outputs": [
    {
     "name": "stdout",
     "output_type": "stream",
     "text": [
      "pandas\n",
      "time\n",
      "numpy\n",
      "tqdm\n",
      "matplotlib\n",
      "seaborn\n"
     ]
    },
    {
     "name": "stdin",
     "output_type": "stream",
     "text": [
      "Which would you like to see?  tqdm\n"
     ]
    },
    {
     "name": "stdout",
     "output_type": "stream",
     "text": [
      "name: tqdm\n",
      "syntax: from tqdm import tqdm\n",
      "desc: progress bars for iterative operations\n"
     ]
    }
   ],
   "source": [
    "df = data_saver(load_library=True)\n",
    "\n",
    "for i in df.index:\n",
    "    print(f'{df.iloc[i][\"name\"]}')\n",
    "\n",
    "library_to_view = input('Which would you like to see? ')\n",
    "\n",
    "item_index = df[df[\"name\"] == library_to_view].index\n",
    "\n",
    "for col in df.columns:\n",
    "    print(f'{col}: {df[df[\"name\"] == library_to_view][col][item_index[0]]}')"
   ]
  },
  {
   "cell_type": "markdown",
   "id": "6e3ddea4-4c16-49a8-88e0-665ff782d5b8",
   "metadata": {
    "jp-MarkdownHeadingCollapsed": true,
    "tags": []
   },
   "source": [
    "### Function 2: Function viewer and Editor\n",
    "**Idea**: This function will mostly expand on the library viewer and editor capabilities. It will operate fairly similar, just with some added components.\n",
    "\n",
    "**Final Product**: A function capable of loading a list of functions. These should not be duplicating. The function should allow for adding a function, editing an existing function, and removing an existing function. It should also display information about a function (to include a description, the dependencies, the tags, and the syntax)."
   ]
  },
  {
   "cell_type": "code",
   "execution_count": 162,
   "id": "e534f0e1-5e7d-45e9-b7a8-78042ba8a2ce",
   "metadata": {
    "tags": []
   },
   "outputs": [],
   "source": [
    "def manage_functions():\n",
    "    df = data_saver(load_function=True)\n",
    "    \n",
    "    while True:\n",
    "        time.sleep(0.05)\n",
    "        clear_output()\n",
    "        # Ask the user what they want to do\n",
    "        print('What would you like to do?')\n",
    "        action = input(\"\"\"\n",
    "        1) Add a new entry\n",
    "        2) Edit an existing one\n",
    "        3) Remove a specific function\n",
    "        4) View a list of current functions\n",
    "        5) View a specific function\n",
    "        6) Exit\n",
    "        \"\"\")\n",
    "        \n",
    "        if action == '1':\n",
    "            # add a new entry\n",
    "            # print('Option 1 not yet available')\n",
    "            # time.sleep(1.25)\n",
    "            \n",
    "            # Add a new entry\n",
    "            name = input(\"Enter the name of the module: \")\n",
    "            syntax = add_newline_for_spaces(input(\"Enter the syntax: \"))\n",
    "            desc = input(\"Enter the description: \")\n",
    "            dependencies_in = input(\"Enter dependency type followed by name of dependency (e.g. 'library:pandas')\\n \\\n",
    "      If multiple dependencies, separate each item with a comma.\")\n",
    "            # tags = input(\"Enter modules that this function may be associated with: \")\n",
    "            \n",
    "            # Format the dependencies appropriately\n",
    "            dependencies = {}\n",
    "            \n",
    "            # Split input_string into pairs and strip spaces\n",
    "            pairs = [pair.strip() for pair in dependencies_in.split(',')]\n",
    "\n",
    "            for pair in pairs:\n",
    "                key, value = map(str.strip, pair.split(':'))\n",
    "                if key in dependencies:\n",
    "                    dependencies[key].append(value)\n",
    "                else:\n",
    "                    dependencies[key] = [value]\n",
    "            \n",
    "            new_data = {'name': name,\n",
    "                        'desc': desc,\n",
    "                        # 'tags': tags,\n",
    "                        'dependencies': dependencies,\n",
    "                        'syntax': syntax\n",
    "                       }\n",
    "            df.loc[-1] = new_data\n",
    "        \n",
    "        elif action == '2':\n",
    "            # Edit an existing one\n",
    "            print('Option 2 not yet available')\n",
    "            time.sleep(1.25)\n",
    "        \n",
    "        elif action == '3':\n",
    "            # Remove a specific function\n",
    "            print('Option 3 not yet available')\n",
    "            time.sleep(1.25)\n",
    "        \n",
    "        elif action == '4':\n",
    "            # View a list of current functions\n",
    "            # print('Option 4 not yet available')\n",
    "            # time.sleep(1.25)\n",
    "            \n",
    "            for i in df.index:\n",
    "                print(f'{df.iloc[i][\"name\"]}: {df.iloc[i].desc}')\n",
    "            input('Press enter to continue')\n",
    "        \n",
    "        elif action == '5':\n",
    "            # View a specific function\n",
    "            # print('Option 5 not yet available')\n",
    "            # time.sleep(1.25)\n",
    "            \n",
    "            for i in df.index:\n",
    "                print(f'{df.iloc[i][\"name\"]}')\n",
    "\n",
    "            function_to_view = input('Which would you like to see? ')\n",
    "\n",
    "            item_index = df[df[\"name\"] == function_to_view].index\n",
    "\n",
    "            for col in df.columns:\n",
    "                print(f'{col}: {df[df[\"name\"] == function_to_view][col][item_index[0]]}')\n",
    "            \n",
    "            input('Press enter to continue')\n",
    "        \n",
    "        elif action == '6':\n",
    "            # Exit\n",
    "            break\n",
    "        \n",
    "        else:\n",
    "            print(\"Invalid action. Please choose a valid option.\")\n",
    "            time.sleep(1.25)\n",
    "    \n",
    "        df = df.drop_duplicates(subset='name', keep='first').reset_index(drop=True)\n",
    "        \n",
    "    data_saver(saved_data=df)\n",
    "    \n",
    "    return None"
   ]
  },
  {
   "cell_type": "code",
   "execution_count": 158,
   "id": "6e3322e1-9cf1-4cfe-962a-efb67d8e54e6",
   "metadata": {
    "tags": []
   },
   "outputs": [
    {
     "name": "stdout",
     "output_type": "stream",
     "text": [
      "What would you like to do?\n"
     ]
    },
    {
     "name": "stdin",
     "output_type": "stream",
     "text": [
      "\n",
      "        1) Add a new entry\n",
      "        2) Edit an existing one\n",
      "        3) Remove a specific function\n",
      "        4) View a list of current functions\n",
      "        5) View a specific function\n",
      "        6) Exit\n",
      "         6\n"
     ]
    }
   ],
   "source": [
    "manage_functions()"
   ]
  },
  {
   "cell_type": "code",
   "execution_count": null,
   "id": "51f054a6-1e07-4c0c-bf93-7ca86a9692b7",
   "metadata": {},
   "outputs": [],
   "source": []
  }
 ],
 "metadata": {
  "kernelspec": {
   "display_name": "Python 3 (ipykernel)",
   "language": "python",
   "name": "python3"
  },
  "language_info": {
   "codemirror_mode": {
    "name": "ipython",
    "version": 3
   },
   "file_extension": ".py",
   "mimetype": "text/x-python",
   "name": "python",
   "nbconvert_exporter": "python",
   "pygments_lexer": "ipython3",
   "version": "3.11.5"
  }
 },
 "nbformat": 4,
 "nbformat_minor": 5
}
