{
 "cells": [
  {
   "cell_type": "markdown",
   "id": "881af152-90d1-4d8d-895c-9d827fb66c00",
   "metadata": {
    "tags": []
   },
   "source": [
    "# Build Functions Script\n",
    "Name is WIP\n",
    "\n",
    "## Goals:\n",
    "- Build a deployable script that can reference and update an online list of functions, as well as build a .py file with these functions\n",
    "\n",
    "## Stakeholders:\n",
    "- Mostly me, but it could prove to be super useful to others too\n",
    "\n",
    "## Deliverables:\n",
    "- function viewer + editor:\n",
    "    - create a dictionary object containing details about a function\n",
    "    - create a list of dictionary objects, where each item is a function\n",
    "    - edit and remove functions\n",
    "    - show information about a function (to include dependencies and syntax)\n",
    "- library viewer + editor:\n",
    "    - load a list of Python libraries and modules\n",
    "    - show information about these libraries and modules\n",
    "    - add and edit these libraries and modules\n",
    "- module builder:\n",
    "    - get from the user the name of the file to create\n",
    "    - check if the file given matches any tags associated with the functions list\n",
    "    - suggest functions based on their tags\n",
    "- function assembler:\n",
    "    - get functions to include from the user\n",
    "    - assemble a list of functions \n",
    "- library assembler:\n",
    "    - get dependencies for a given function\n",
    "    - assemble a list of dependencies for a given function (probably using a tuple)\n",
    "- grand function:\n",
    "    - runs the above in some fashion"
   ]
  },
  {
   "cell_type": "code",
   "execution_count": 2,
   "id": "5e38afb7-8e7f-4763-a701-980854383b46",
   "metadata": {
    "tags": []
   },
   "outputs": [],
   "source": [
    "# # functions example:\n",
    "# functions = [\n",
    "# \t{\n",
    "# \t\t'function_name':'function_call_name',\n",
    "# \t\t'modules':['module for function']\n",
    "# \t\t'description':'description of function actions',\n",
    "# \t\t'dependencies':{\n",
    "# \t\t\t'name':'type'\n",
    "# \t\t},\n",
    "# \t\t'syntax':'code to create the function''\n",
    "# \t}\n",
    "# ]\n",
    "\n",
    "# # libraries example\n",
    "# libraries = [\n",
    "# \t{\n",
    "# \t\t'name':'library/module name',\n",
    "# \t\t'syntax':'library/module syntax'\n",
    "# \t}\n",
    "# ]"
   ]
  },
  {
   "cell_type": "code",
   "execution_count": 3,
   "id": "29fbb040-fbaa-45db-95ba-662d6d966f78",
   "metadata": {
    "tags": []
   },
   "outputs": [],
   "source": [
    "# establish imports\n",
    "import re\n",
    "import pandas as pd\n",
    "\n",
    "# import function files\n",
    "import base\n",
    "from library import manage_library\n",
    "from function import manage_functions\n",
    "from assembly import assembler"
   ]
  },
  {
   "cell_type": "code",
   "execution_count": 32,
   "id": "5958086e-9d3e-4e37-b61d-b5c9af49f3d6",
   "metadata": {
    "tags": []
   },
   "outputs": [
    {
     "name": "stdout",
     "output_type": "stream",
     "text": [
      "What would you like to do?\n"
     ]
    },
    {
     "name": "stdin",
     "output_type": "stream",
     "text": [
      "\n",
      "        1) Add a new entry\n",
      "        2) Edit an existing one\n",
      "        3) View a list of current libraries\n",
      "        4) View a specific library\n",
      "        5) Exit\n",
      "         5\n"
     ]
    }
   ],
   "source": [
    "manage_library()"
   ]
  },
  {
   "cell_type": "code",
   "execution_count": 142,
   "id": "0158deb5-66d5-41b2-a23a-9bac421ee6c1",
   "metadata": {
    "tags": []
   },
   "outputs": [
    {
     "name": "stdout",
     "output_type": "stream",
     "text": [
      "What would you like to do?\n"
     ]
    },
    {
     "name": "stdin",
     "output_type": "stream",
     "text": [
      "\n",
      "        1) Add a new entry\n",
      "        2) Edit an existing one\n",
      "        3) Remove a specific function\n",
      "        4) View a list of current functions\n",
      "        5) View a specific function\n",
      "        6) Exit\n",
      "         6\n"
     ]
    }
   ],
   "source": [
    "manage_functions()"
   ]
  },
  {
   "cell_type": "code",
   "execution_count": 93,
   "id": "df763376-3129-4ee5-bc21-bb414bff89f6",
   "metadata": {
    "tags": []
   },
   "outputs": [
    {
     "name": "stdout",
     "output_type": "stream",
     "text": [
      "Current list of entries:\n",
      "df_info: Function takes a dataframe and returns potentially relevant information about it\n",
      "print_libs: Function that prints all libraries used up to present\n",
      "check_file_exists: Function takes a filename, query, and url and checks if the file exists\n",
      "drop_extras: Function to drop extra columns that may have a smaller impact on the model\n",
      "split_categorical: Returns three dataframes split from one for use in model training, validation, and testing\n",
      "drop_cols: Drops columns\n",
      "encode_df: Takes a processed dataframe and encodes the object columns for usage in modeling\n",
      "\n"
     ]
    },
    {
     "name": "stdin",
     "output_type": "stream",
     "text": [
      "Enter function names separated by commas:  df_info, check_file_exists, drop_extras, split_categorical\n"
     ]
    },
    {
     "name": "stdout",
     "output_type": "stream",
     "text": [
      "Selected functions: df_info, check_file_exists, drop_extras, split_categorical\n"
     ]
    },
    {
     "name": "stdin",
     "output_type": "stream",
     "text": [
      "Press Enter to confirm or 'restart' to start over:  \n"
     ]
    },
    {
     "name": "stdout",
     "output_type": "stream",
     "text": [
      "Creating wrangle.py...\n"
     ]
    }
   ],
   "source": [
    "assembler()"
   ]
  },
  {
   "cell_type": "markdown",
   "id": "40ea08e2-63d2-4cab-9e5b-c1b02d0b1b50",
   "metadata": {
    "jp-MarkdownHeadingCollapsed": true,
    "tags": []
   },
   "source": [
    "### Function 0.1: Data Saver\n",
    "**Idea**: This function will be the crux of operations. Most operations would involve this function, as they require the data stored within.\n",
    "\n",
    "**Final Product**: A function that by default returns None. If no arguments are given, it does nothing. If a DataFrame is provided, then one of its other arguments, 'library' or 'function' must be True. If 'library' or 'function' is True, then it will perform the operations of loading the specific data and returning it.\n",
    "\n",
    "Parameters:\n",
    "- load_library=False\n",
    "    - if True then checks if library csv exists. If library csv exists, then load and return it. If it does not exist, then make it and return starter DataFrame with 'name', 'syntax', and 'desc' columns.\n",
    "- load_function=False\n",
    "    - if True, then checks if functions json exists. If functions json exists, then load and return it. If it does not exist, then make it and return starter DataFrame with the 'name','desc','syntax', and 'dependencies' columns.\n",
    "- saved_data=None\n",
    "    - if not None, then checks number of columns. If length of columns matches library list, then overwrite libraries.csv. If length of columns matches functions list, then overwrite functions.json. Else print that length matches neither."
   ]
  },
  {
   "cell_type": "code",
   "execution_count": 9,
   "id": "86371940-f98e-4856-a548-1a2dd302c6d6",
   "metadata": {
    "tags": []
   },
   "outputs": [],
   "source": [
    "def data_saver(load_library=False,load_function=False,saved_data=None):\n",
    "    # check if load_library is true\n",
    "    if load_library == True:\n",
    "        # check if libraries.csv exists\n",
    "        if os.path.exists('libraries.csv') == True:\n",
    "            libraries = pd.read_csv('libraries.csv',index_col=0)\n",
    "            return libraries\n",
    "        else:\n",
    "            libraries = pd.DataFrame(columns=['name','syntax','desc'])\n",
    "            libraries.to_csv('libraries.csv')\n",
    "            return libraries\n",
    "    \n",
    "    # check if load_function is true\n",
    "    elif load_function == True:\n",
    "        if os.path.exists('functions.json') == True:\n",
    "            functions = pd.read_json('functions.json')\n",
    "            return functions\n",
    "        else:\n",
    "            functions = pd.DataFrame(columns=['name','desc','tags','dependencies','syntax'])\n",
    "            functions.to_json('functions.json')\n",
    "            return functions\n",
    "    \n",
    "    # check if saved_data is not None\n",
    "    elif type(saved_data) == type(pd.DataFrame()):\n",
    "        if len(saved_data.columns) == 3:\n",
    "            saved_data.to_csv('libraries.csv')\n",
    "        elif len(saved_data.columns) == 5:\n",
    "            saved_data.to_json('functions.json')\n",
    "        else:\n",
    "            print('Saved data length matches none')\n",
    "    \n",
    "    else:\n",
    "        print('No options provided. Exiting.')\n",
    "    \n",
    "    return None"
   ]
  },
  {
   "cell_type": "code",
   "execution_count": 11,
   "id": "57509a92-e094-4193-8d0f-2501b63b695c",
   "metadata": {
    "tags": []
   },
   "outputs": [
    {
     "data": {
      "text/html": [
       "<div>\n",
       "<style scoped>\n",
       "    .dataframe tbody tr th:only-of-type {\n",
       "        vertical-align: middle;\n",
       "    }\n",
       "\n",
       "    .dataframe tbody tr th {\n",
       "        vertical-align: top;\n",
       "    }\n",
       "\n",
       "    .dataframe thead th {\n",
       "        text-align: right;\n",
       "    }\n",
       "</style>\n",
       "<table border=\"1\" class=\"dataframe\">\n",
       "  <thead>\n",
       "    <tr style=\"text-align: right;\">\n",
       "      <th></th>\n",
       "      <th>name</th>\n",
       "      <th>syntax</th>\n",
       "      <th>desc</th>\n",
       "    </tr>\n",
       "  </thead>\n",
       "  <tbody>\n",
       "    <tr>\n",
       "      <th>0</th>\n",
       "      <td>pandas</td>\n",
       "      <td>import pandas as pd</td>\n",
       "      <td>data manipulation library</td>\n",
       "    </tr>\n",
       "  </tbody>\n",
       "</table>\n",
       "</div>"
      ],
      "text/plain": [
       "     name               syntax                       desc\n",
       "0  pandas  import pandas as pd  data manipulation library"
      ]
     },
     "execution_count": 11,
     "metadata": {},
     "output_type": "execute_result"
    }
   ],
   "source": [
    "data_saver(load_library=True)"
   ]
  },
  {
   "cell_type": "markdown",
   "id": "fbc7ca34-82ca-4d92-82f7-d3c371544ca0",
   "metadata": {
    "jp-MarkdownHeadingCollapsed": true,
    "tags": []
   },
   "source": [
    "### Function 0.2: Format text with embedded newlines\n",
    "**Problem:** So at the function editor, I encountered the problem that copying and pasting a function results in a mess of formatting. Newlines aren't kept, so everything is globbed together in an ugly mess. This won't work for when the function begins to build the modules, so I need to correct this issue now so that everything will format correctly.\n",
    "\n",
    "**Solution:** The following function relies on the *re* module. It finds any 3 or more consecutive spaces and adds a newline character to the string before the spaces. This way, any text entered will, when printed, be written with the appropriate indentations and should work as intended."
   ]
  },
  {
   "cell_type": "code",
   "execution_count": 48,
   "id": "cfa6c50a-06bd-4e95-8385-3b2c3f88cb60",
   "metadata": {
    "tags": []
   },
   "outputs": [],
   "source": [
    "def add_newline_for_spaces(text):\n",
    "    # Replace two or more spaces with a newline followed by the spaces\n",
    "    modified_text = re.sub(r'(\\S)(\\s{3,})', r'\\1\\n\\2', text)\n",
    "    return modified_text"
   ]
  },
  {
   "cell_type": "markdown",
   "id": "2db9ca09-7e5c-4bbb-ad26-b17ca62abf43",
   "metadata": {
    "tags": []
   },
   "source": [
    "### Function 0.3: Check current OS"
   ]
  },
  {
   "cell_type": "code",
   "execution_count": 162,
   "id": "0d9cac40-ff65-4425-96c8-cd6b95f95236",
   "metadata": {},
   "outputs": [],
   "source": [
    "import platform\n",
    "\n",
    "def check_operating_system():\n",
    "    os_name = platform.system()\n",
    "    if os_name == \"Windows\":\n",
    "        return \"Windows\"\n",
    "    elif os_name == \"Darwin\":\n",
    "        return \"macOS\"\n",
    "    elif os_name == \"Linux\":\n",
    "        return \"Linux\"\n",
    "    else:\n",
    "        return \"Unknown Operating System\""
   ]
  },
  {
   "cell_type": "code",
   "execution_count": 164,
   "id": "2e3062bc-79c2-47cf-9245-6353ff859319",
   "metadata": {
    "tags": []
   },
   "outputs": [
    {
     "data": {
      "text/plain": [
       "'macOS'"
      ]
     },
     "execution_count": 164,
     "metadata": {},
     "output_type": "execute_result"
    }
   ],
   "source": [
    "running_os = check_operating_system()\n",
    "running_os"
   ]
  },
  {
   "cell_type": "markdown",
   "id": "eb30a17d-ded4-4585-8c22-76c2404f45a8",
   "metadata": {},
   "source": [
    "### Function 0.4: Add builder command to OS"
   ]
  },
  {
   "cell_type": "code",
   "execution_count": 167,
   "id": "88a6907c-4850-4b28-a3ff-f4b5572663fa",
   "metadata": {
    "tags": []
   },
   "outputs": [],
   "source": [
    "import os\n",
    "from IPython.core.interactiveshell import InteractiveShell\n",
    "\n",
    "def load_aliases(current_dir):\n",
    "    alias_cmd = f\"python {current_dir}/build_a_mod.py\"\n",
    "    shell = InteractiveShell.instance()\n",
    "    shell.define_alias('funct_build', alias_cmd)\n"
   ]
  },
  {
   "cell_type": "code",
   "execution_count": 169,
   "id": "17e08633-d4d1-4e6d-88d5-435727c323ea",
   "metadata": {},
   "outputs": [],
   "source": [
    "import sys\n",
    "\n",
    "def add_command_to_shell():\n",
    "    # Determine the shell configuration file based on the user's current shell\n",
    "    shell_config = {\n",
    "        '/bin/bash': '~/.bashrc',\n",
    "        '/bin/zsh': '~/.zshrc'\n",
    "    }.get(os.environ.get('SHELL'), None)\n",
    "\n",
    "    if not shell_config:\n",
    "        print(\"Unsupported shell or shell not detected.\")\n",
    "        return\n",
    "    \n",
    "    # Expand the user path\n",
    "    shell_config_path = os.path.expanduser(shell_config)\n",
    "\n",
    "    # Command to be added\n",
    "    current_dir = os.getcwd()  # Get the current working directory\n",
    "    command_str = f\"alias funct_build='python {current_dir}/build_a_mod.py'\\n\"\n",
    "\n",
    "    # Check if the command already exists in the file\n",
    "    try:\n",
    "        with open(shell_config_path, 'r') as file:\n",
    "            if command_str in file.read():\n",
    "                print(\"Command already exists in the shell configuration.\")\n",
    "                return\n",
    "    except FileNotFoundError:\n",
    "        print(f\"No such file: {shell_config_path}\")\n",
    "        return\n",
    "\n",
    "    # Append the command to the shell configuration file\n",
    "    try:\n",
    "        with open(shell_config_path, 'a') as file:\n",
    "            file.write(command_str)\n",
    "            print(f\"Command added to {shell_config}. You may need to restart your shell or source your {shell_config} file.\")\n",
    "    except Exception as e:\n",
    "        print(f\"Failed to add command to {shell_config}: {str(e)}\")\n",
    "    \n",
    "    try:\n",
    "        load_aliases(current_dir)\n",
    "    except:\n",
    "        print('Failure')"
   ]
  },
  {
   "cell_type": "code",
   "execution_count": 171,
   "id": "3e124a58-eca2-4697-9db4-82d46163ab5b",
   "metadata": {
    "tags": []
   },
   "outputs": [
    {
     "name": "stdout",
     "output_type": "stream",
     "text": [
      "Command already exists in the shell configuration.\n"
     ]
    }
   ],
   "source": [
    "if (running_os=='macOS')|(running_os=='Linux'):\n",
    "    add_command_to_shell()\n",
    "elif running_os=='Windows':\n",
    "    print(\"I'm sorry -- this Operating System is currently not supported for adding commands.\")\n",
    "else:\n",
    "    print(\"I'm sorry -- this Operating System is not recognized.\")"
   ]
  },
  {
   "cell_type": "code",
   "execution_count": 28,
   "id": "74005268-6a06-4dcd-9513-64677e6c787a",
   "metadata": {
    "tags": []
   },
   "outputs": [
    {
     "data": {
      "text/plain": [
       "'/Users/manelson/github_projects/Build-Functions'"
      ]
     },
     "execution_count": 28,
     "metadata": {},
     "output_type": "execute_result"
    }
   ],
   "source": [
    "os.getcwd()"
   ]
  },
  {
   "cell_type": "code",
   "execution_count": null,
   "id": "75a695c0-b519-40b5-875c-cc8d1a97595e",
   "metadata": {
    "tags": []
   },
   "outputs": [],
   "source": []
  },
  {
   "cell_type": "markdown",
   "id": "f4b2f9c0-96fe-4bc0-83b8-e1781fae5a9f",
   "metadata": {
    "tags": []
   },
   "source": [
    "### Final product"
   ]
  },
  {
   "cell_type": "code",
   "execution_count": 147,
   "id": "6a6c134b-465b-4219-834f-8373340b2dac",
   "metadata": {
    "tags": []
   },
   "outputs": [],
   "source": [
    "def sleep_end(t_bed):\n",
    "    if t_bed+7 <=7:\n",
    "        return t_bed+7\n",
    "    else:\n",
    "        sleep_n = 7-t_bed\n",
    "        sleep_m = (7-sleep_n)/2\n",
    "        return t_bed + sleep_n + sleep_m"
   ]
  },
  {
   "cell_type": "code",
   "execution_count": 153,
   "id": "65d17e5d-b90a-4d99-a04a-7bf7e65a8a5a",
   "metadata": {
    "tags": []
   },
   "outputs": [
    {
     "data": {
      "text/plain": [
       "9.5"
      ]
     },
     "execution_count": 153,
     "metadata": {},
     "output_type": "execute_result"
    }
   ],
   "source": [
    "sleep_end(5)"
   ]
  },
  {
   "cell_type": "code",
   "execution_count": null,
   "id": "c540e04c-f827-4e5c-99d1-50739d4721d6",
   "metadata": {},
   "outputs": [],
   "source": []
  }
 ],
 "metadata": {
  "kernelspec": {
   "display_name": "Python 3 (ipykernel)",
   "language": "python",
   "name": "python3"
  },
  "language_info": {
   "codemirror_mode": {
    "name": "ipython",
    "version": 3
   },
   "file_extension": ".py",
   "mimetype": "text/x-python",
   "name": "python",
   "nbconvert_exporter": "python",
   "pygments_lexer": "ipython3",
   "version": "3.11.5"
  }
 },
 "nbformat": 4,
 "nbformat_minor": 5
}
